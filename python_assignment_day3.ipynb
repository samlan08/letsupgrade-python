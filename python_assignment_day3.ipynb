{
  "nbformat": 4,
  "nbformat_minor": 0,
  "metadata": {
    "colab": {
      "name": "python_assignment_day3.ipynb",
      "provenance": [],
      "collapsed_sections": [],
      "authorship_tag": "ABX9TyMhL+SXa0rRM1jc5fCtrIsI",
      "include_colab_link": true
    },
    "kernelspec": {
      "name": "python3",
      "display_name": "Python 3"
    }
  },
  "cells": [
    {
      "cell_type": "markdown",
      "metadata": {
        "id": "view-in-github",
        "colab_type": "text"
      },
      "source": [
        "<a href=\"https://colab.research.google.com/github/samlan08/letsupgrade-python/blob/master/python_assignment_day3.ipynb\" target=\"_parent\"><img src=\"https://colab.research.google.com/assets/colab-badge.svg\" alt=\"Open In Colab\"/></a>"
      ]
    },
    {
      "cell_type": "markdown",
      "metadata": {
        "id": "_DIvdMfibZ0c",
        "colab_type": "text"
      },
      "source": [
        "Assignment 1 day3"
      ]
    },
    {
      "cell_type": "markdown",
      "metadata": {
        "id": "0qxVH0w0fzSs",
        "colab_type": "text"
      },
      "source": [
        "You all are pilots, you have to land a plane,   \n",
        "the altitude required for landing a plane is 1000ft,   \n",
        "if it is less than or equal to 1000ft tell pilot to \"land the plane\",  \n",
        "or if it is more than 1000ft but less than 5000ft ask the pilot to \"bring down to 1000ft\",  \n",
        "else if it is more than 5000ft ask the pilot to \"turn around\".\n"
      ]
    },
    {
      "cell_type": "code",
      "metadata": {
        "id": "QbqmW8cQbcMa",
        "colab_type": "code",
        "colab": {
          "base_uri": "https://localhost:8080/",
          "height": 52
        },
        "outputId": "20123873-5361-411a-edb5-2b1eaa720c20"
      },
      "source": [
        "altitude = input(\"enter the required altitude to land the plane : \")\n",
        "num = float(altitude)\n",
        "\n",
        "if (num <= 1000 ):\n",
        "  print(\"Safe to land.\")\n",
        "elif (num > 1000 and num <= 5000):\n",
        "  print(\"Bring dow to 1000ft\")\n",
        "else :\n",
        "  print(\"Turn around\")\n"
      ],
      "execution_count": null,
      "outputs": [
        {
          "output_type": "stream",
          "text": [
            "enter the required altitude to land the plane : 70000\n",
            "Turn around\n"
          ],
          "name": "stdout"
        }
      ]
    },
    {
      "cell_type": "code",
      "metadata": {
        "id": "Reo9qK50bcP4",
        "colab_type": "code",
        "colab": {}
      },
      "source": [
        ""
      ],
      "execution_count": null,
      "outputs": []
    },
    {
      "cell_type": "markdown",
      "metadata": {
        "id": "uqpotu5mhVD5",
        "colab_type": "text"
      },
      "source": [
        "Assignment 2   day-3"
      ]
    },
    {
      "cell_type": "markdown",
      "metadata": {
        "id": "A4ado6DQhVAc",
        "colab_type": "text"
      },
      "source": [
        "2) Using for loop print all the prime numbers between 1 - 200.  \n",
        "Using for loop and range function."
      ]
    },
    {
      "cell_type": "code",
      "metadata": {
        "id": "P3bTtoWXbcgx",
        "colab_type": "code",
        "colab": {
          "base_uri": "https://localhost:8080/",
          "height": 834
        },
        "outputId": "f6590f9b-5ef0-4218-aefc-0db5b1371654"
      },
      "source": [
        "for num in range(2,201):\n",
        "  if num>1:\n",
        "    for i in range(2, num):\n",
        "      if (num%i==0):\n",
        "        break\n",
        "    else:\n",
        "      print(\"prime number : \",num)"
      ],
      "execution_count": 4,
      "outputs": [
        {
          "output_type": "stream",
          "text": [
            "prime number :  2\n",
            "prime number :  3\n",
            "prime number :  5\n",
            "prime number :  7\n",
            "prime number :  11\n",
            "prime number :  13\n",
            "prime number :  17\n",
            "prime number :  19\n",
            "prime number :  23\n",
            "prime number :  29\n",
            "prime number :  31\n",
            "prime number :  37\n",
            "prime number :  41\n",
            "prime number :  43\n",
            "prime number :  47\n",
            "prime number :  53\n",
            "prime number :  59\n",
            "prime number :  61\n",
            "prime number :  67\n",
            "prime number :  71\n",
            "prime number :  73\n",
            "prime number :  79\n",
            "prime number :  83\n",
            "prime number :  89\n",
            "prime number :  97\n",
            "prime number :  101\n",
            "prime number :  103\n",
            "prime number :  107\n",
            "prime number :  109\n",
            "prime number :  113\n",
            "prime number :  127\n",
            "prime number :  131\n",
            "prime number :  137\n",
            "prime number :  139\n",
            "prime number :  149\n",
            "prime number :  151\n",
            "prime number :  157\n",
            "prime number :  163\n",
            "prime number :  167\n",
            "prime number :  173\n",
            "prime number :  179\n",
            "prime number :  181\n",
            "prime number :  191\n",
            "prime number :  193\n",
            "prime number :  197\n",
            "prime number :  199\n"
          ],
          "name": "stdout"
        }
      ]
    },
    {
      "cell_type": "code",
      "metadata": {
        "id": "xGcKjFJbbckK",
        "colab_type": "code",
        "colab": {}
      },
      "source": [
        ""
      ],
      "execution_count": null,
      "outputs": []
    }
  ]
}