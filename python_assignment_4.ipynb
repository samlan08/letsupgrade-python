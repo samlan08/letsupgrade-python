{
  "nbformat": 4,
  "nbformat_minor": 0,
  "metadata": {
    "colab": {
      "name": "python_assignment_4.ipynb",
      "provenance": [],
      "authorship_tag": "ABX9TyNGO29qvNCV9eFD0DdA4zEO",
      "include_colab_link": true
    },
    "kernelspec": {
      "name": "python3",
      "display_name": "Python 3"
    }
  },
  "cells": [
    {
      "cell_type": "markdown",
      "metadata": {
        "id": "view-in-github",
        "colab_type": "text"
      },
      "source": [
        "<a href=\"https://colab.research.google.com/github/samlan08/letsupgrade-python/blob/master/python_assignment_4.ipynb\" target=\"_parent\"><img src=\"https://colab.research.google.com/assets/colab-badge.svg\" alt=\"Open In Colab\"/></a>"
      ]
    },
    {
      "cell_type": "markdown",
      "metadata": {
        "id": "jABsBYI7EAJi",
        "colab_type": "text"
      },
      "source": [
        "Assignment 1   Day-4"
      ]
    },
    {
      "cell_type": "markdown",
      "metadata": {
        "id": "76LN09R-EARE",
        "colab_type": "text"
      },
      "source": [
        "Print the first ArmStrong number in the range of 1042000 to702648265 and exit the loop as soon as you encounter the first armstrong number.  \n",
        "Use while loop. "
      ]
    },
    {
      "cell_type": "code",
      "metadata": {
        "id": "ycGTf4DqE3x8",
        "colab_type": "code",
        "colab": {
          "base_uri": "https://localhost:8080/",
          "height": 35
        },
        "outputId": "6961526e-0218-44f3-dda7-b17acdff95dc"
      },
      "source": [
        "for num in range(1042000, 702648265):\n",
        "  order = len(str(num))\n",
        "  sum=0\n",
        "  temp=num\n",
        "  while (temp)>0:\n",
        "    digit = temp%10\n",
        "    sum = sum+digit**order\n",
        "    temp //=10\n",
        "  if num == sum:\n",
        "    print(\"The first armstrong number between 1042000 and 702648265 is \", sum)\n",
        "    break\n",
        "\n",
        "\n",
        " "
      ],
      "execution_count": 3,
      "outputs": [
        {
          "output_type": "stream",
          "text": [
            "The first armstrong number between 1042000 and 702648265 is  1741725\n"
          ],
          "name": "stdout"
        }
      ]
    },
    {
      "cell_type": "code",
      "metadata": {
        "id": "0X_1vCV_3KYf",
        "colab_type": "code",
        "colab": {}
      },
      "source": [
        ""
      ],
      "execution_count": null,
      "outputs": []
    }
  ]
}