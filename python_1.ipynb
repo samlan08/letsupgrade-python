{
  "nbformat": 4,
  "nbformat_minor": 0,
  "metadata": {
    "colab": {
      "name": "python_1.ipynb",
      "provenance": [],
      "collapsed_sections": [],
      "authorship_tag": "ABX9TyMheFficIhnxCdA/dKK7azF",
      "include_colab_link": true
    },
    "kernelspec": {
      "name": "python3",
      "display_name": "Python 3"
    }
  },
  "cells": [
    {
      "cell_type": "markdown",
      "metadata": {
        "id": "view-in-github",
        "colab_type": "text"
      },
      "source": [
        "<a href=\"https://colab.research.google.com/github/samlan08/letsupgrade-python/blob/master/python_1.ipynb\" target=\"_parent\"><img src=\"https://colab.research.google.com/assets/colab-badge.svg\" alt=\"Open In Colab\"/></a>"
      ]
    },
    {
      "cell_type": "markdown",
      "metadata": {
        "id": "H3ZUCBw-6Keq",
        "colab_type": "text"
      },
      "source": [
        "Assignment 1"
      ]
    },
    {
      "cell_type": "markdown",
      "metadata": {
        "id": "ti13x96s6jNx",
        "colab_type": "text"
      },
      "source": [
        " 1. list and it default function."
      ]
    },
    {
      "cell_type": "code",
      "metadata": {
        "id": "8FAr2GOJ6BTX",
        "colab_type": "code",
        "colab": {
          "base_uri": "https://localhost:8080/",
          "height": 35
        },
        "outputId": "4b272520-eaf9-45f0-c0cc-655097ae87bf"
      },
      "source": [
        "# making a list\n",
        "list_1=[\"sam\",34,\"rain\",\"anita\",95,1,\"game\",6]\n",
        "print(list_1)"
      ],
      "execution_count": 3,
      "outputs": [
        {
          "output_type": "stream",
          "text": [
            "['sam', 34, 'reena', 'anita', 95, 1, 'game', 6]\n"
          ],
          "name": "stdout"
        }
      ]
    },
    {
      "cell_type": "code",
      "metadata": {
        "id": "rKE60wDk7W6s",
        "colab_type": "code",
        "colab": {
          "base_uri": "https://localhost:8080/",
          "height": 35
        },
        "outputId": "82fc55cc-2a09-410b-85f5-07d1ebeffc23"
      },
      "source": [
        "#1) .append()\n",
        "#Adds an element at the end of the list\n",
        "#append only adds one element at a time.\n",
        "list_1.append(\"trees\")\n",
        "list_1.append(95)\n",
        "list_1.append([1,2,35])\n",
        "print(list_1)"
      ],
      "execution_count": 28,
      "outputs": [
        {
          "output_type": "stream",
          "text": [
            "['sam', 34, 'reena', 'anita', 95, 1, 'game', 6, 'trees', [1, 2, 35], 95]\n"
          ],
          "name": "stdout"
        }
      ]
    },
    {
      "cell_type": "code",
      "metadata": {
        "id": "VX5CxEsl7W-E",
        "colab_type": "code",
        "colab": {
          "base_uri": "https://localhost:8080/",
          "height": 35
        },
        "outputId": "7554873c-37ee-4809-dfd9-cb3f10ccd1a8"
      },
      "source": [
        "#2) .count()\n",
        "#Returns the number of elements with the specified value\n",
        "list_1.count(95)"
      ],
      "execution_count": 29,
      "outputs": [
        {
          "output_type": "execute_result",
          "data": {
            "text/plain": [
              "2"
            ]
          },
          "metadata": {
            "tags": []
          },
          "execution_count": 29
        }
      ]
    },
    {
      "cell_type": "code",
      "metadata": {
        "id": "ugFRcYz6-WmO",
        "colab_type": "code",
        "colab": {
          "base_uri": "https://localhost:8080/",
          "height": 35
        },
        "outputId": "42b7928f-8c74-4a4a-c329-8e5bd4131cb8"
      },
      "source": [
        "# 3) .index()\n",
        "#Returns the index of the first element with the specified value\n",
        "list_1.index(\"trees\")"
      ],
      "execution_count": 32,
      "outputs": [
        {
          "output_type": "execute_result",
          "data": {
            "text/plain": [
              "8"
            ]
          },
          "metadata": {
            "tags": []
          },
          "execution_count": 32
        }
      ]
    },
    {
      "cell_type": "code",
      "metadata": {
        "id": "U3-Us5st-Wpc",
        "colab_type": "code",
        "colab": {
          "base_uri": "https://localhost:8080/",
          "height": 35
        },
        "outputId": "119b36d8-ba8b-413e-fb7c-043693a2f3d0"
      },
      "source": [
        "# 4) .insert()\n",
        "#Adds an element at the specified position\n",
        "list_1.insert(4,\"cycle\")\n",
        "print(list_1)"
      ],
      "execution_count": 35,
      "outputs": [
        {
          "output_type": "stream",
          "text": [
            "['sam', 34, 'reena', 'anita', 'cycle', 95, 1, 'game', 6, 'trees', [1, 2, 35], 95]\n"
          ],
          "name": "stdout"
        }
      ]
    },
    {
      "cell_type": "code",
      "metadata": {
        "id": "l7cM59aq_v7L",
        "colab_type": "code",
        "colab": {
          "base_uri": "https://localhost:8080/",
          "height": 35
        },
        "outputId": "1498ba54-b8e5-4652-aa38-b1d62a6fe5d3"
      },
      "source": [
        "# 5) .reverse()\n",
        "#Reverses the order of the list\n",
        "list_1.reverse()\n",
        "print(list_1)"
      ],
      "execution_count": 37,
      "outputs": [
        {
          "output_type": "stream",
          "text": [
            "[95, [1, 2, 35], 'trees', 6, 'game', 1, 95, 'cycle', 'anita', 'reena', 34, 'sam']\n"
          ],
          "name": "stdout"
        }
      ]
    },
    {
      "cell_type": "code",
      "metadata": {
        "id": "IKc5aQO9_v-u",
        "colab_type": "code",
        "colab": {
          "base_uri": "https://localhost:8080/",
          "height": 52
        },
        "outputId": "cfa565aa-4fb9-4f3e-e1be-4f678915f5df"
      },
      "source": [
        "# 6) .sort()\n",
        "#Sorts the list # in ascending or descending order\n",
        "# can sort only int/float or only character type of data cannot sort int/float and char mixed data.\n",
        "# makind another list\n",
        "list_2 = [\"apple\",\"cherry\",\"grapes\",\"mango\"]\n",
        "list_3 = [3,3.4,58,7.32]\n",
        "list_2.sort()\n",
        "list_3.sort()\n",
        "print(list_2)\n",
        "print(list_3)\n"
      ],
      "execution_count": 43,
      "outputs": [
        {
          "output_type": "stream",
          "text": [
            "['apple', 'cherry', 'grapes', 'mango']\n",
            "[3, 3.4, 7.32, 58]\n"
          ],
          "name": "stdout"
        }
      ]
    },
    {
      "cell_type": "code",
      "metadata": {
        "id": "yiNe-pH1-Wj2",
        "colab_type": "code",
        "colab": {
          "base_uri": "https://localhost:8080/",
          "height": 35
        },
        "outputId": "fee8e66e-d0a4-4c15-cd06-9190b013698c"
      },
      "source": [
        "# 7) .extend()\n",
        "#Add the elements of a list (or any iterable), to the end of the current list \n",
        "# adding two list # can add one list at a time.\n",
        "list_1.extend(list_2)\n",
        "list_1.extend(list_3)\n",
        "print(list_1)"
      ],
      "execution_count": 46,
      "outputs": [
        {
          "output_type": "stream",
          "text": [
            "[95, [1, 2, 35], 'trees', 6, 'game', 1, 95, 'cycle', 'anita', 'reena', 34, 'sam', 'apple', 'cherry', 'grapes', 'mango', 3, 3.4, 7.32, 58]\n"
          ],
          "name": "stdout"
        }
      ]
    },
    {
      "cell_type": "code",
      "metadata": {
        "id": "n6q0k0_kCVz0",
        "colab_type": "code",
        "colab": {
          "base_uri": "https://localhost:8080/",
          "height": 35
        },
        "outputId": "361d2b58-2ed3-4a93-d9c8-6274af25eb6f"
      },
      "source": [
        "# 8) .remove()\n",
        "#Removes the first item with the specified value\n",
        "# can remove one element at a time\n",
        "list_1.remove(7.32)\n",
        "print(list_1)"
      ],
      "execution_count": 48,
      "outputs": [
        {
          "output_type": "stream",
          "text": [
            "[95, [1, 2, 35], 'trees', 6, 'game', 1, 95, 'cycle', 'anita', 'reena', 34, 'sam', 'apple', 'cherry', 'grapes', 'mango', 3, 3.4, 58]\n"
          ],
          "name": "stdout"
        }
      ]
    },
    {
      "cell_type": "code",
      "metadata": {
        "id": "uyOw4xUQCV3X",
        "colab_type": "code",
        "colab": {
          "base_uri": "https://localhost:8080/",
          "height": 35
        },
        "outputId": "204f302b-91a6-4436-8b07-52663496bef5"
      },
      "source": [
        "# 9) .pop()\n",
        "#Removes the element at the specified position\n",
        "list_1.pop(4)\n",
        "print(list_1)"
      ],
      "execution_count": 49,
      "outputs": [
        {
          "output_type": "stream",
          "text": [
            "[95, [1, 2, 35], 'trees', 6, 1, 95, 'cycle', 'anita', 'reena', 34, 'sam', 'apple', 'cherry', 'grapes', 'mango', 3, 3.4, 58]\n"
          ],
          "name": "stdout"
        }
      ]
    },
    {
      "cell_type": "code",
      "metadata": {
        "id": "vkU6kC5gDNeC",
        "colab_type": "code",
        "colab": {
          "base_uri": "https://localhost:8080/",
          "height": 35
        },
        "outputId": "d566b295-7694-4cfc-d1d7-27d4335fd6bd"
      },
      "source": [
        "# 10) .copy()\n",
        "#Returns a copy of the same list\n",
        "list_1.copy()\n",
        "print(list_1)"
      ],
      "execution_count": 52,
      "outputs": [
        {
          "output_type": "stream",
          "text": [
            "[95, [1, 2, 35], 'trees', 6, 1, 95, 'cycle', 'anita', 'reena', 34, 'sam', 'apple', 'cherry', 'grapes', 'mango', 3, 3.4, 58]\n"
          ],
          "name": "stdout"
        }
      ]
    },
    {
      "cell_type": "code",
      "metadata": {
        "id": "GYad0yhYDNhi",
        "colab_type": "code",
        "colab": {
          "base_uri": "https://localhost:8080/",
          "height": 35
        },
        "outputId": "5d9536bf-771d-4512-d041-98e548cbc973"
      },
      "source": [
        "# 11) .clear()\n",
        "#Removes all the elements from the list\n",
        "list_1.clear()\n",
        "print(list_1)\n",
        "#returns an empty list."
      ],
      "execution_count": 53,
      "outputs": [
        {
          "output_type": "stream",
          "text": [
            "[]\n"
          ],
          "name": "stdout"
        }
      ]
    },
    {
      "cell_type": "code",
      "metadata": {
        "id": "UFkj79TkEfEd",
        "colab_type": "code",
        "colab": {
          "base_uri": "https://localhost:8080/",
          "height": 52
        },
        "outputId": "78f8f0f6-3ac3-42e2-e3aa-28392d353c93"
      },
      "source": [
        "# 12) min and max\n",
        "print(max(list_3))\n",
        "print(min(list_3))"
      ],
      "execution_count": 55,
      "outputs": [
        {
          "output_type": "stream",
          "text": [
            "58\n",
            "3\n"
          ],
          "name": "stdout"
        }
      ]
    },
    {
      "cell_type": "code",
      "metadata": {
        "id": "48Gz9OS1E6bQ",
        "colab_type": "code",
        "colab": {
          "base_uri": "https://localhost:8080/",
          "height": 52
        },
        "outputId": "5711187f-a033-41cb-bb13-9aa6e32d8083"
      },
      "source": [
        "# 13) len(), type()\n",
        "# len() : it gives the length of the sequence\n",
        "#type() : tells us what type of datatype it is.\n",
        "print(len(list_3))\n",
        "print(type(list_3))"
      ],
      "execution_count": 58,
      "outputs": [
        {
          "output_type": "stream",
          "text": [
            "4\n",
            "<class 'list'>\n"
          ],
          "name": "stdout"
        }
      ]
    },
    {
      "cell_type": "markdown",
      "metadata": {
        "id": "rOELPZ2zEBxY",
        "colab_type": "text"
      },
      "source": [
        "2) Dictionary and its default functions"
      ]
    },
    {
      "cell_type": "code",
      "metadata": {
        "id": "mrV5bpeFECSE",
        "colab_type": "code",
        "colab": {
          "base_uri": "https://localhost:8080/",
          "height": 35
        },
        "outputId": "e8a70289-9851-407f-acd8-bc179fcaf31b"
      },
      "source": [
        "# making a dictionary\n",
        "dict_1 = {\"mango\":30,\"apple\":34,\"cherry\":12,\"grapes\":45}\n",
        "print(dict_1)"
      ],
      "execution_count": 63,
      "outputs": [
        {
          "output_type": "stream",
          "text": [
            "{'mango': 30, 'apple': 34, 'cherry': 12, 'grapes': 45}\n"
          ],
          "name": "stdout"
        }
      ]
    },
    {
      "cell_type": "code",
      "metadata": {
        "id": "fqvh0mYGEATJ",
        "colab_type": "code",
        "colab": {
          "base_uri": "https://localhost:8080/",
          "height": 35
        },
        "outputId": "4807f7f1-c014-47a4-e5de-81120087e5e7"
      },
      "source": [
        "# 1) .get()\n",
        "#Returns the value of the specified key\n",
        "dict_1.get(\"apple\")\n"
      ],
      "execution_count": 69,
      "outputs": [
        {
          "output_type": "stream",
          "text": [
            "34\n"
          ],
          "name": "stdout"
        }
      ]
    },
    {
      "cell_type": "code",
      "metadata": {
        "id": "QOuPHnaKEAWj",
        "colab_type": "code",
        "colab": {
          "base_uri": "https://localhost:8080/",
          "height": 35
        },
        "outputId": "7a2f7450-b4b6-4063-a6d2-62013ac86c96"
      },
      "source": [
        "# 2) .keys()\n",
        "#Returns the value of the specified key\n",
        "dict_1.keys()"
      ],
      "execution_count": 71,
      "outputs": [
        {
          "output_type": "execute_result",
          "data": {
            "text/plain": [
              "dict_keys(['mango', 'apple', 'cherry', 'grapes'])"
            ]
          },
          "metadata": {
            "tags": []
          },
          "execution_count": 71
        }
      ]
    },
    {
      "cell_type": "code",
      "metadata": {
        "id": "xCvZLKEuEAY7",
        "colab_type": "code",
        "colab": {
          "base_uri": "https://localhost:8080/",
          "height": 35
        },
        "outputId": "84624e8e-8bc6-4d15-d267-c785ba7e87ed"
      },
      "source": [
        "# 3) .values()\n",
        "#Returns a list of all the values in the dictionary\n",
        "dict_1.values()"
      ],
      "execution_count": 72,
      "outputs": [
        {
          "output_type": "execute_result",
          "data": {
            "text/plain": [
              "dict_values([30, 34, 12, 45])"
            ]
          },
          "metadata": {
            "tags": []
          },
          "execution_count": 72
        }
      ]
    },
    {
      "cell_type": "code",
      "metadata": {
        "id": "CyW5iFl9EAbw",
        "colab_type": "code",
        "colab": {
          "base_uri": "https://localhost:8080/",
          "height": 35
        },
        "outputId": "4efbc652-daf7-4df4-ca63-5cbb9b10eb2c"
      },
      "source": [
        "# 4) .update()\n",
        "#Updates the dictionary with the specified key-value pairs\n",
        "dict_1.update({\"orange\":50,\"banana\":20})\n",
        "print(dict_1)"
      ],
      "execution_count": 74,
      "outputs": [
        {
          "output_type": "stream",
          "text": [
            "{'mango': 30, 'apple': 34, 'cherry': 12, 'grapes': 45, 'orange': 50, 'banana': 20}\n"
          ],
          "name": "stdout"
        }
      ]
    },
    {
      "cell_type": "code",
      "metadata": {
        "id": "RrvjNgPSI_VW",
        "colab_type": "code",
        "colab": {
          "base_uri": "https://localhost:8080/",
          "height": 35
        },
        "outputId": "81f7f546-10da-4a73-af12-b46e2e71b98a"
      },
      "source": [
        "# 5) .items()\n",
        "#Returns a list containing a tuple for each key value pair\n",
        "dict_1.items()\n",
        "print(dict_1)"
      ],
      "execution_count": 77,
      "outputs": [
        {
          "output_type": "stream",
          "text": [
            "{'mango': 30, 'apple': 34, 'cherry': 12, 'grapes': 45, 'orange': 50, 'banana': 20}\n"
          ],
          "name": "stdout"
        }
      ]
    },
    {
      "cell_type": "markdown",
      "metadata": {
        "id": "cZAPAgLtJXnY",
        "colab_type": "text"
      },
      "source": [
        "3) sets and its default functions"
      ]
    },
    {
      "cell_type": "code",
      "metadata": {
        "id": "n7hGX8G6I_ZK",
        "colab_type": "code",
        "colab": {
          "base_uri": "https://localhost:8080/",
          "height": 52
        },
        "outputId": "7a1c1ccb-8200-4c36-a894-c285190ae7de"
      },
      "source": [
        "# 1)making aset\n",
        "set_1 = {\"apple\",\"grapes\",\"mango\",\"banana\"}\n",
        "print(set_1)\n",
        "set_2 = {\"ball\",\"bat\",\"football\",\"racket\"}\n",
        "print(set_2)"
      ],
      "execution_count": 90,
      "outputs": [
        {
          "output_type": "stream",
          "text": [
            "{'banana', 'grapes', 'mango', 'apple'}\n",
            "{'football', 'bat', 'ball', 'racket'}\n"
          ],
          "name": "stdout"
        }
      ]
    },
    {
      "cell_type": "code",
      "metadata": {
        "id": "sNA1rf30KAXj",
        "colab_type": "code",
        "colab": {
          "base_uri": "https://localhost:8080/",
          "height": 35
        },
        "outputId": "11638f63-c7e1-44b8-a42d-5febaa525e5f"
      },
      "source": [
        "# 1) add()\n",
        "#Adds an element to the set\n",
        "set_1.add(\"orange\")\n",
        "print(set_1)"
      ],
      "execution_count": 80,
      "outputs": [
        {
          "output_type": "stream",
          "text": [
            "{'banana', 'apple', 'orange', 'mango', 'grapes'}\n"
          ],
          "name": "stdout"
        }
      ]
    },
    {
      "cell_type": "code",
      "metadata": {
        "id": "8wj4JPNwJ50u",
        "colab_type": "code",
        "colab": {
          "base_uri": "https://localhost:8080/",
          "height": 35
        },
        "outputId": "bd84e868-e84b-4b2a-a33a-7712d0f80b7f"
      },
      "source": [
        "# 2) difference()\n",
        "#Returns a set containing the difference between two or more sets\n",
        "#The returned set contains items that exist only in the first set, and not in both sets.\n",
        "set_1.difference(set_2)\n"
      ],
      "execution_count": 82,
      "outputs": [
        {
          "output_type": "execute_result",
          "data": {
            "text/plain": [
              "{'apple', 'banana', 'grapes', 'mango'}"
            ]
          },
          "metadata": {
            "tags": []
          },
          "execution_count": 82
        }
      ]
    },
    {
      "cell_type": "code",
      "metadata": {
        "id": "78NdmoyeJ54E",
        "colab_type": "code",
        "colab": {
          "base_uri": "https://localhost:8080/",
          "height": 35
        },
        "outputId": "4e2d2d27-333a-47bf-e294-1878d7d5a5cc"
      },
      "source": [
        "# 3) discard()\n",
        "#Remove the specified item\n",
        "set_1.discard(\"banana\")\n",
        "print(set_1)"
      ],
      "execution_count": 86,
      "outputs": [
        {
          "output_type": "stream",
          "text": [
            "{'grapes', 'mango', 'apple'}\n"
          ],
          "name": "stdout"
        }
      ]
    },
    {
      "cell_type": "code",
      "metadata": {
        "id": "vPthMuhlJ57m",
        "colab_type": "code",
        "colab": {
          "base_uri": "https://localhost:8080/",
          "height": 35
        },
        "outputId": "f0d4c09d-7529-4ec6-d452-a813c9595827"
      },
      "source": [
        "# 4) union()\n",
        "#Return a set containing the union of sets\n",
        "set_3 = set_1.union(set_2)\n",
        "print(set_3)"
      ],
      "execution_count": 88,
      "outputs": [
        {
          "output_type": "stream",
          "text": [
            "{'football', 'mango', 'bat', 'grapes', 'ball', 'racket', 'apple'}\n"
          ],
          "name": "stdout"
        }
      ]
    },
    {
      "cell_type": "code",
      "metadata": {
        "id": "g08_69sbPe4d",
        "colab_type": "code",
        "colab": {
          "base_uri": "https://localhost:8080/",
          "height": 35
        },
        "outputId": "dbd5c0a6-4be4-472c-e80b-898ae64b19bc"
      },
      "source": [
        "#5) update() \n",
        "#Update the set with the union of this set and others\n",
        "set_1.update(set_2)\n",
        "print(set_1)"
      ],
      "execution_count": 92,
      "outputs": [
        {
          "output_type": "stream",
          "text": [
            "{'banana', 'ball', 'apple', 'football', 'mango', 'bat', 'grapes', 'racket'}\n"
          ],
          "name": "stdout"
        }
      ]
    },
    {
      "cell_type": "markdown",
      "metadata": {
        "id": "rTGBFlFUQEKA",
        "colab_type": "text"
      },
      "source": [
        "4. Tuples and explore default methods"
      ]
    },
    {
      "cell_type": "code",
      "metadata": {
        "id": "EA4m8PgVQo9G",
        "colab_type": "code",
        "colab": {
          "base_uri": "https://localhost:8080/",
          "height": 35
        },
        "outputId": "8099bf9c-e1a2-4690-92c1-e0d79e6ac544"
      },
      "source": [
        "# making a tuple\n",
        "tuple_1 = (1,4,5,56,23,6.7,23,7.6,1,5,6.7)\n",
        "print(tuple_1)"
      ],
      "execution_count": 94,
      "outputs": [
        {
          "output_type": "stream",
          "text": [
            "(1, 4, 5, 56, 23, 6.7, 23, 7.6, 1, 5, 6.7)\n"
          ],
          "name": "stdout"
        }
      ]
    },
    {
      "cell_type": "code",
      "metadata": {
        "id": "7JoCU0afQDRR",
        "colab_type": "code",
        "colab": {
          "base_uri": "https://localhost:8080/",
          "height": 35
        },
        "outputId": "6be0a2e8-f46f-4adc-a534-f1863f7d37e3"
      },
      "source": [
        "# 1) count()\n",
        "#Returns the number of times a specified value occurs in a tuple\n",
        "tuple_1.count(5)"
      ],
      "execution_count": 95,
      "outputs": [
        {
          "output_type": "execute_result",
          "data": {
            "text/plain": [
              "2"
            ]
          },
          "metadata": {
            "tags": []
          },
          "execution_count": 95
        }
      ]
    },
    {
      "cell_type": "code",
      "metadata": {
        "id": "N68yvkd1QDVF",
        "colab_type": "code",
        "colab": {
          "base_uri": "https://localhost:8080/",
          "height": 35
        },
        "outputId": "30cc64c7-aeb0-4546-867b-1457ac1d953f"
      },
      "source": [
        "# 2) index()\n",
        "#Searches the tuple for a specified value and returns the position of where it was found\n",
        "tuple_1.index(23)"
      ],
      "execution_count": 96,
      "outputs": [
        {
          "output_type": "execute_result",
          "data": {
            "text/plain": [
              "4"
            ]
          },
          "metadata": {
            "tags": []
          },
          "execution_count": 96
        }
      ]
    },
    {
      "cell_type": "markdown",
      "metadata": {
        "id": "opGOkfZFRMYo",
        "colab_type": "text"
      },
      "source": [
        "5. string and explore default method "
      ]
    },
    {
      "cell_type": "code",
      "metadata": {
        "id": "SNQyh7tqRxCK",
        "colab_type": "code",
        "colab": {
          "base_uri": "https://localhost:8080/",
          "height": 52
        },
        "outputId": "dde706d3-0337-47ff-80f1-35b7a9f8c482"
      },
      "source": [
        "# creating text \n",
        "text = \"Hello i am Donal\"\n",
        "print(text)\n",
        "text_1 = \"2345681\"\n",
        "print(text_1)"
      ],
      "execution_count": 112,
      "outputs": [
        {
          "output_type": "stream",
          "text": [
            "Hello i am Donal\n",
            "2345681\n"
          ],
          "name": "stdout"
        }
      ]
    },
    {
      "cell_type": "code",
      "metadata": {
        "id": "LtE3AYKtPe87",
        "colab_type": "code",
        "colab": {
          "base_uri": "https://localhost:8080/",
          "height": 35
        },
        "outputId": "ad86fc7a-e7a0-47bd-e5b3-e2da67622e2e"
      },
      "source": [
        "# 1) find()\n",
        "#Searches the string for a specified value and returns the position of where it was found\n",
        "print(text.find(\"am\"))"
      ],
      "execution_count": 106,
      "outputs": [
        {
          "output_type": "stream",
          "text": [
            "8\n"
          ],
          "name": "stdout"
        }
      ]
    },
    {
      "cell_type": "code",
      "metadata": {
        "id": "MFD2LG9xSjkS",
        "colab_type": "code",
        "colab": {
          "base_uri": "https://localhost:8080/",
          "height": 35
        },
        "outputId": "3b6c1afb-cdb8-459f-f445-53137d34113c"
      },
      "source": [
        "# 2) lower()\n",
        "#Converts a string into lower case\n",
        "print(text.lower())"
      ],
      "execution_count": 107,
      "outputs": [
        {
          "output_type": "stream",
          "text": [
            "hello i am donal\n"
          ],
          "name": "stdout"
        }
      ]
    },
    {
      "cell_type": "code",
      "metadata": {
        "id": "YEBnDJ8SUKhj",
        "colab_type": "code",
        "colab": {
          "base_uri": "https://localhost:8080/",
          "height": 35
        },
        "outputId": "44bb3e2c-9748-431c-a72b-56b7db0d40f5"
      },
      "source": [
        "# 3) split()\n",
        "#Splits the string at the specified separator, and returns a list\n",
        "print(text.split())"
      ],
      "execution_count": 108,
      "outputs": [
        {
          "output_type": "stream",
          "text": [
            "['Hello', 'i', 'am', 'Donal']\n"
          ],
          "name": "stdout"
        }
      ]
    },
    {
      "cell_type": "code",
      "metadata": {
        "id": "ytoFpuZqUKeH",
        "colab_type": "code",
        "colab": {
          "base_uri": "https://localhost:8080/",
          "height": 35
        },
        "outputId": "bd3acbd1-c9e5-4e1e-9c67-ecca2fae7ec7"
      },
      "source": [
        "# 4) strip()\n",
        "#Returns a trimmed version of the string\n",
        "print(text.strip())"
      ],
      "execution_count": 109,
      "outputs": [
        {
          "output_type": "stream",
          "text": [
            "Hello i am Donal\n"
          ],
          "name": "stdout"
        }
      ]
    },
    {
      "cell_type": "code",
      "metadata": {
        "id": "ySEissa5SjoV",
        "colab_type": "code",
        "colab": {
          "base_uri": "https://localhost:8080/",
          "height": 35
        },
        "outputId": "be3fc722-d46a-4708-c69b-714880411bda"
      },
      "source": [
        "# 5) upper()\n",
        "#Converts a string into upper case\n",
        "print(text.upper())"
      ],
      "execution_count": 110,
      "outputs": [
        {
          "output_type": "stream",
          "text": [
            "HELLO I AM DONAL\n"
          ],
          "name": "stdout"
        }
      ]
    },
    {
      "cell_type": "code",
      "metadata": {
        "id": "rLc3ay_HU7bP",
        "colab_type": "code",
        "colab": {
          "base_uri": "https://localhost:8080/",
          "height": 35
        },
        "outputId": "558d9568-bd5c-444b-bbd2-538d1b597bcc"
      },
      "source": [
        "# 6) islower()\n",
        "#Returns True if all characters in the string are lower case\n",
        "print(text.islower())"
      ],
      "execution_count": 111,
      "outputs": [
        {
          "output_type": "stream",
          "text": [
            "False\n"
          ],
          "name": "stdout"
        }
      ]
    },
    {
      "cell_type": "code",
      "metadata": {
        "id": "_t6L54-KU7ek",
        "colab_type": "code",
        "colab": {
          "base_uri": "https://localhost:8080/",
          "height": 35
        },
        "outputId": "3dd8cdc4-d40b-4073-8d27-4a540b97d53b"
      },
      "source": [
        "#7) isnumeric()\n",
        "#Returns True if all characters in the string are numeric\n",
        "print(text_1.isnumeric())"
      ],
      "execution_count": 114,
      "outputs": [
        {
          "output_type": "stream",
          "text": [
            "True\n"
          ],
          "name": "stdout"
        }
      ]
    },
    {
      "cell_type": "code",
      "metadata": {
        "id": "CfNaZewXVmGY",
        "colab_type": "code",
        "colab": {}
      },
      "source": [
        ""
      ],
      "execution_count": null,
      "outputs": []
    }
  ]
}